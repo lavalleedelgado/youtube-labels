{
 "cells": [
  {
   "cell_type": "code",
   "execution_count": null,
   "metadata": {},
   "outputs": [],
   "source": [
    "import pipeline as p\n",
    "import models as m"
   ]
  },
  {
   "cell_type": "code",
   "execution_count": null,
   "metadata": {},
   "outputs": [],
   "source": [
    "# Import YouTube data.\n",
    "idx_label = 4\n",
    "idx_text = (2, 3, 6, 15)\n",
    "data = p.make_dataset('data/USvideos.csv', idx_label=idx_label, idx_text=idx_text)"
   ]
  },
  {
   "cell_type": "code",
   "execution_count": null,
   "metadata": {},
   "outputs": [],
   "source": [
    "# Split the data into training, validation, testing sets.\n",
    "train, valid, test = p.split_data(data, train=0.6, valid=0.2, test=0.2)"
   ]
  },
  {
   "cell_type": "code",
   "execution_count": null,
   "metadata": {},
   "outputs": [],
   "source": [
    "# Make the vector representation of the corpus.\n",
    "corpus, vocab = p.make_vectorization(train[:, 1], 10000)"
   ]
  },
  {
   "cell_type": "code",
   "execution_count": null,
   "metadata": {},
   "outputs": [],
   "source": [
    "# Make equally-sized batches of label, corpus pairs.\n",
    "batches = p.make_batches(train[:, 0], corpus, vocab[p.PAD], 10)"
   ]
  }
 ],
 "metadata": {
  "language_info": {
   "codemirror_mode": {
    "name": "ipython",
    "version": 3
   },
   "file_extension": ".py",
   "mimetype": "text/x-python",
   "name": "python",
   "nbconvert_exporter": "python",
   "pygments_lexer": "ipython3",
   "version": "3.7.4-final"
  },
  "orig_nbformat": 2,
  "kernelspec": {
   "name": "python37464bitb7dd9ebf943746cdbe2c227968064615",
   "display_name": "Python 3.7.4 64-bit"
  }
 },
 "nbformat": 4,
 "nbformat_minor": 2
}